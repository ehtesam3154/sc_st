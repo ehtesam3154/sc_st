{
 "cells": [
  {
   "cell_type": "code",
   "execution_count": null,
   "metadata": {},
   "outputs": [],
   "source": [
    "import numpy as np\n",
    "import os\n",
    "os.environ['CUDA_VISIBLE_DEVICES'] = '1'"
   ]
  },
  {
   "cell_type": "code",
   "execution_count": null,
   "metadata": {},
   "outputs": [],
   "source": [
    "import scanpy as sc\n",
    "import pandas as pd\n",
    "import torch\n",
    "import scipy\n",
    "import time\n",
    "from model import *\n",
    "from utils import *"
   ]
  },
  {
   "cell_type": "code",
   "execution_count": null,
   "metadata": {},
   "outputs": [],
   "source": [
    "scdata = pd.read_csv('/home/ehtesamul/sc_st/data/mousedata_2020/E1z2/simu_sc_counts.csv', index_col = 0)\n",
    "scdata.head(5)"
   ]
  },
  {
   "cell_type": "code",
   "execution_count": null,
   "metadata": {},
   "outputs": [],
   "source": [
    "scdata.shape"
   ]
  },
  {
   "cell_type": "code",
   "execution_count": null,
   "metadata": {},
   "outputs": [],
   "source": [
    "stdata = pd.read_csv('/home/ehtesamul/sc_st/data/mousedata_2020/E1z2/simu_st_counts.csv', index_col = 0)\n",
    "stdata.head(5)"
   ]
  },
  {
   "cell_type": "code",
   "execution_count": null,
   "metadata": {},
   "outputs": [],
   "source": [
    "stdata.shape"
   ]
  },
  {
   "cell_type": "code",
   "execution_count": null,
   "metadata": {},
   "outputs": [],
   "source": [
    "scdata = scdata.T\n",
    "stdata = stdata.T"
   ]
  },
  {
   "cell_type": "code",
   "execution_count": null,
   "metadata": {},
   "outputs": [],
   "source": [
    "stgtcelltype = pd.read_csv('/home/ehtesamul/sc_st/data/mousedata_2020/E1z2/simu_st_celltype.csv', index_col = 0)\n",
    "stgtcelltype.head(5)"
   ]
  },
  {
   "cell_type": "code",
   "execution_count": null,
   "metadata": {},
   "outputs": [],
   "source": [
    "stgtcelltype.shape"
   ]
  },
  {
   "cell_type": "code",
   "execution_count": null,
   "metadata": {},
   "outputs": [],
   "source": [
    "scdata.head(5)"
   ]
  },
  {
   "cell_type": "code",
   "execution_count": null,
   "metadata": {},
   "outputs": [],
   "source": [
    "stdata.head(5)"
   ]
  },
  {
   "cell_type": "code",
   "execution_count": null,
   "metadata": {},
   "outputs": [],
   "source": [
    "stdata.shape"
   ]
  },
  {
   "cell_type": "code",
   "execution_count": null,
   "metadata": {},
   "outputs": [],
   "source": [
    "spcoor = pd.read_csv('/home/ehtesamul/sc_st/data/mousedata_2020/E1z2/simu_st_metadata.csv', index_col=0)\n",
    "spcoor.head(5)"
   ]
  },
  {
   "cell_type": "code",
   "execution_count": null,
   "metadata": {},
   "outputs": [],
   "source": [
    "spcoor.shape"
   ]
  },
  {
   "cell_type": "code",
   "execution_count": null,
   "metadata": {},
   "outputs": [],
   "source": [
    "scmetadata = pd.read_csv('/home/ehtesamul/sc_st/data/mousedata_2020/E1z2/metadata.csv', index_col = 0)\n",
    "scmetadata.head(5)"
   ]
  },
  {
   "cell_type": "code",
   "execution_count": null,
   "metadata": {},
   "outputs": [],
   "source": [
    "scmetadata.shape"
   ]
  },
  {
   "cell_type": "code",
   "execution_count": null,
   "metadata": {},
   "outputs": [],
   "source": [
    "adata = sc.AnnData(scdata, obs=scmetadata)\n",
    "adata"
   ]
  },
  {
   "cell_type": "code",
   "execution_count": null,
   "metadata": {},
   "outputs": [],
   "source": [
    "adata.X"
   ]
  },
  {
   "cell_type": "code",
   "execution_count": null,
   "metadata": {},
   "outputs": [],
   "source": [
    "adata.var_names"
   ]
  },
  {
   "cell_type": "code",
   "execution_count": null,
   "metadata": {},
   "outputs": [],
   "source": [
    "adata.obs_names"
   ]
  },
  {
   "cell_type": "code",
   "execution_count": null,
   "metadata": {},
   "outputs": [],
   "source": [
    "scdata.head(5)"
   ]
  },
  {
   "cell_type": "code",
   "execution_count": null,
   "metadata": {},
   "outputs": [],
   "source": [
    "scmetadata"
   ]
  },
  {
   "cell_type": "code",
   "execution_count": null,
   "metadata": {},
   "outputs": [],
   "source": [
    "new_scdata = pd.DataFrame(adata.X,index=adata.obs_names,columns=adata.var_names)\n",
    "new_scdata.head(5)"
   ]
  },
  {
   "cell_type": "code",
   "execution_count": null,
   "metadata": {},
   "outputs": [],
   "source": [
    "adata.obs['embryo']"
   ]
  },
  {
   "cell_type": "code",
   "execution_count": null,
   "metadata": {},
   "outputs": [],
   "source": [
    "scdata.head(5)"
   ]
  },
  {
   "cell_type": "code",
   "execution_count": null,
   "metadata": {},
   "outputs": [],
   "source": [
    "new_scdata.head(5)"
   ]
  },
  {
   "cell_type": "code",
   "execution_count": null,
   "metadata": {},
   "outputs": [],
   "source": [
    "adata.obs"
   ]
  },
  {
   "cell_type": "code",
   "execution_count": null,
   "metadata": {},
   "outputs": [],
   "source": [
    "scdata = new_scdata\n",
    "stadata = sc.AnnData(stdata)\n",
    "sc.pp.normalize_total(stadata)\n",
    "sc.pp.log1p(stadata)\n",
    "stdata = pd.DataFrame(stadata.X, index = stadata.obs_names, columns = stadata.var_names)"
   ]
  },
  {
   "cell_type": "code",
   "execution_count": null,
   "metadata": {},
   "outputs": [],
   "source": [
    "adata.obsm['spatial'] = scmetadata[['x_global', 'y_global']].values"
   ]
  },
  {
   "cell_type": "code",
   "execution_count": null,
   "metadata": {},
   "outputs": [],
   "source": [
    "adata.obs"
   ]
  },
  {
   "cell_type": "code",
   "execution_count": null,
   "metadata": {},
   "outputs": [],
   "source": [
    "spcoor"
   ]
  },
  {
   "cell_type": "code",
   "execution_count": null,
   "metadata": {},
   "outputs": [],
   "source": [
    "adata.obsm['spatial']"
   ]
  },
  {
   "cell_type": "code",
   "execution_count": null,
   "metadata": {},
   "outputs": [],
   "source": [
    "sc.pp.calculate_qc_metrics(adata, percent_top=None, log1p=False, inplace=True)\n",
    "adata.obs"
   ]
  },
  {
   "cell_type": "code",
   "execution_count": null,
   "metadata": {},
   "outputs": [],
   "source": [
    "sc.pp.calculate_qc_metrics(stadata,percent_top=None, log1p=False, inplace=True)\n"
   ]
  },
  {
   "cell_type": "code",
   "execution_count": null,
   "metadata": {},
   "outputs": [],
   "source": [
    "dp = 1- adata.obs['n_genes_by_counts'].median()/stadata.obs['n_genes_by_counts'].median()\n",
    "dp"
   ]
  },
  {
   "cell_type": "code",
   "execution_count": null,
   "metadata": {},
   "outputs": [],
   "source": [
    "class setting( object ):\n",
    "    pass\n",
    "seed_all(2022)\n",
    "opt= setting()\n",
    "setattr(opt, 'device', 'cuda:0') # device\n",
    "setattr(opt, 'outf', 'log/test') # folder to save log files\n",
    "setattr(opt, 'n_genes', 351) # number of genes for the input\n",
    "setattr(opt, 'no_bn', False) # duplicated\n",
    "setattr(opt, 'lr', 0.002) # learning rate\n",
    "setattr(opt, 'sigma', 3)  # the spatial variance parameter in the Gaussian function\n",
    "setattr(opt, 'alpha', 0.8) # MMD loss weight default:0.8\n",
    "setattr(opt, 'verbose', True) # verbose\n",
    "setattr(opt, 'mmdbatch', 1000) # batch for MMD loss\n",
    "setattr(opt, 'dp', dp) # dropout rate for ST data"
   ]
  },
  {
   "cell_type": "code",
   "execution_count": null,
   "metadata": {},
   "outputs": [],
   "source": [
    "opt.device"
   ]
  },
  {
   "cell_type": "code",
   "execution_count": null,
   "metadata": {},
   "outputs": [],
   "source": [
    "if not os.path.exists(opt.outf):\n",
    "    os.makedirs(opt.outf)"
   ]
  },
  {
   "cell_type": "code",
   "execution_count": null,
   "metadata": {},
   "outputs": [],
   "source": [
    "spcoor"
   ]
  },
  {
   "cell_type": "code",
   "execution_count": null,
   "metadata": {},
   "outputs": [],
   "source": [
    "stgtcelltype"
   ]
  },
  {
   "cell_type": "code",
   "execution_count": null,
   "metadata": {},
   "outputs": [],
   "source": [
    "stadata.obs"
   ]
  },
  {
   "cell_type": "code",
   "execution_count": null,
   "metadata": {},
   "outputs": [],
   "source": [
    "import matplotlib.pyplot as plt\n",
    "import scanpy as sc\n",
    "\n",
    "# Set figure size\n",
    "plt.figure(figsize=(10, 5))\n",
    "\n",
    "# Create the violin plots\n",
    "sc.pl.violin(stadata, ['n_genes_by_counts', 'total_counts'], \n",
    "             jitter=0.4, multi_panel=True)"
   ]
  },
  {
   "cell_type": "code",
   "execution_count": null,
   "metadata": {},
   "outputs": [],
   "source": [
    "sc.pl.violin(adata, ['n_genes_by_counts', 'total_counts'],jitter=0.4, multi_panel=True)"
   ]
  },
  {
   "cell_type": "code",
   "execution_count": null,
   "metadata": {},
   "outputs": [],
   "source": [
    "st_neighbor = scipy.spatial.distance.cdist(spcoor, spcoor)\n",
    "sigma = 3\n",
    "st_neighbor = np.exp(-st_neighbor ** 2/ (2*sigma**2))/ (np.sqrt(2*np.pi)*sigma)"
   ]
  },
  {
   "cell_type": "code",
   "execution_count": null,
   "metadata": {},
   "outputs": [],
   "source": [
    "plt.figure(figsize=(10, 5))\n",
    "plt.scatter(spcoor.values[:, 0], spcoor.values[:, 1], c=np.log1p(st_neighbor[400, :]), s=20)"
   ]
  },
  {
   "cell_type": "code",
   "execution_count": null,
   "metadata": {},
   "outputs": [],
   "source": [
    "class setting( object ):\n",
    "    pass\n",
    "seed_all(2022)\n",
    "opt= setting()\n",
    "setattr(opt, 'device', 'cuda:0')\n",
    "setattr(opt, 'outf', 'log/Mouse_E1z2')\n",
    "setattr(opt, 'n_genes', 351)\n",
    "setattr(opt, 'no_bn', False)\n",
    "setattr(opt, 'lr', 0.002)\n",
    "setattr(opt, 'sigma', 3)\n",
    "setattr(opt, 'alpha', 0.8)\n",
    "setattr(opt, 'verbose', True)\n",
    "setattr(opt, 'mmdbatch', 1000)\n",
    "setattr(opt, 'dp', dp)"
   ]
  },
  {
   "cell_type": "code",
   "execution_count": null,
   "metadata": {},
   "outputs": [],
   "source": [
    "%%time\n",
    "testmodel = SOmodel(opt)\n",
    "testmodel.togpu()\n",
    "loss_curve = testmodel.train_wholedata(400, torch.tensor(scdata.values).float(), torch.tensor(stdata.values).float(), torch.tensor(spcoor.values).float())"
   ]
  },
  {
   "cell_type": "code",
   "execution_count": null,
   "metadata": {},
   "outputs": [],
   "source": [
    "plt.figure(figsize=(10,6))\n",
    "skip = 10\n",
    "N = len(loss_curve['E']) - skip\n",
    "plt.plot(np.arange(N), loss_curve['E'][skip:], label='E')\n",
    "plt.plot(np.arange(N), loss_curve['E_pred'][skip:], label='E_pred')\n",
    "plt.plot(np.arange(N), loss_curve['E_circle'][skip:], label='E_circle')\n",
    "plt.plot(np.arange(N), loss_curve['E_mmd'][skip:], label='E_mmd')\n",
    "plt.legend()"
   ]
  },
  {
   "cell_type": "code",
   "execution_count": null,
   "metadata": {},
   "outputs": [],
   "source": [
    "testmodel.modeleval()\n",
    "scembedding = testmodel.netE(torch.tensor(scdata.values, dtype=torch.float32).cuda())\n",
    "stembedding = testmodel.netE(torch.tensor(stdata.values, dtype=torch.float32).cuda())\n",
    "netst2sc = F.softmax(stembedding.mm(scembedding.t()),dim=1).detach().cpu().numpy()\n",
    "netsc2st = F.softmax(scembedding.mm(stembedding.t()), dim=1).detach().cpu().numpy()"
   ]
  },
  {
   "cell_type": "code",
   "execution_count": null,
   "metadata": {},
   "outputs": [],
   "source": [
    "netst2sc.shape"
   ]
  },
  {
   "cell_type": "code",
   "execution_count": null,
   "metadata": {},
   "outputs": [],
   "source": [
    "netsc2st.shape"
   ]
  },
  {
   "cell_type": "code",
   "execution_count": null,
   "metadata": {},
   "outputs": [],
   "source": [
    "from datetime import datetime\n",
    "timestamp = datetime.now().strftime('%Y%m%d_%H%M%S')\n",
    "dataset_name = 'E1z2'\n",
    "result_dir = f'result/{timestamp}_{dataset_name}'\n",
    "os.makedirs(result_dir, exist_ok=True)\n",
    "\n",
    "np.save(f'{result_dir}/st2sc_mapping.npy', netst2sc)\n",
    "np.save(f'{result_dir}/sc2st_mapping.npy', netsc2st)\n",
    "np.save(f'{result_dir}/sc_embedding.npy', scembedding.detach().cpu().numpy())\n",
    "np.save(f'{result_dir}/st_embedding.npy', stembedding.detach().cpu().numpy())"
   ]
  },
  {
   "cell_type": "code",
   "execution_count": null,
   "metadata": {},
   "outputs": [],
   "source": [
    "testmodel.save()"
   ]
  },
  {
   "cell_type": "code",
   "execution_count": null,
   "metadata": {},
   "outputs": [],
   "source": [
    "def all_coord(mappingmtx,spcoor):\n",
    "    mappingnorm = mappingmtx.div(mappingmtx.sum(axis=1), axis=0)\n",
    "\n",
    "    spaotsc_coord = np.zeros([mappingnorm.shape[0],2])\n",
    "    spaotsc_coord[:,0] = np.matmul(mappingnorm.values,spcoor.coord_x.values)\n",
    "    spaotsc_coord[:,1] = np.matmul(mappingnorm.values,spcoor.coord_y.values)\n",
    "    return spaotsc_coord\n",
    "\n",
    "def k_coord(mappingmtx,spcoor, k=1):\n",
    "    maskmap = np.zeros_like(mappingmtx)\n",
    "\n",
    "    argmask = np.argsort(1/mappingmtx.values,axis=1)\n",
    "\n",
    "    for i in range(argmask.shape[0]):\n",
    "        for j in range(k):\n",
    "            maskmap[i,argmask[i,j]]=1\n",
    "\n",
    "    mappingnorm = (maskmap*mappingmtx).div((maskmap*mappingmtx).sum(axis=1), axis=0)\n",
    "\n",
    "    spaotsc_coord = np.zeros([mappingnorm.shape[0],2])\n",
    "    spaotsc_coord[:,0] = np.matmul(mappingnorm.values,spcoor.coord_x.values)\n",
    "    spaotsc_coord[:,1] = np.matmul(mappingnorm.values,spcoor.coord_y.values)\n",
    "    return spaotsc_coord"
   ]
  },
  {
   "cell_type": "code",
   "execution_count": null,
   "metadata": {},
   "outputs": [],
   "source": [
    "adata.obsm['SpatialDA'] = all_coord(pd.DataFrame(netsc2st, index=adata.obs_names, columns=stadata.obs_names), spcoor)"
   ]
  },
  {
   "cell_type": "code",
   "execution_count": null,
   "metadata": {},
   "outputs": [],
   "source": [
    "plt.rcParams['pdf.fonttype'] = 42"
   ]
  },
  {
   "cell_type": "code",
   "execution_count": null,
   "metadata": {},
   "outputs": [],
   "source": [
    "def gen_sc_adj_matrix(sc_embeddings):\n",
    "    #change to numpy array if tensor\n",
    "    if isinstance(sc_embeddings, torch.Tensor):\n",
    "        embeddings = sc_embeddings.detach().cpu().numpy()\n",
    "    else:\n",
    "        embeddings = sc_embeddings\n",
    "\n",
    "    #calculate inner product\n",
    "    adj_matrix = np.matmul(embeddings, embeddings.T)\n",
    "\n",
    "    #normalize it\n",
    "    # row_sums = adj_matrix.sum(axis=1)\n",
    "    # normalized_adj_matrix = adj_matrix / row_sums[:, np.newaxis]\n",
    "    normalized_adj_matrix = adj_matrix / adj_matrix.sum(axis=1, keepdims=True)\n",
    "\n",
    "    return normalized_adj_matrix\n",
    "\n",
    "# def recover_coord_from_adj_matrix(adj_matrix, n_components=2):\n",
    "#     from sklearn.manifold import MDS\n",
    "\n",
    "#     distance_matrix = 1 - adj_matrix\n",
    "#     distance_matrix = 0.5 * (distance_matrix + distance_matrix.T)\n",
    "\n",
    "#     #apply mds to recover coordinates\n",
    "#     mds = MDS(n_components=n_components,\n",
    "#               dissimilarity='precomputed',\n",
    "#               random_state=42,\n",
    "#               normalized_stress='auto')\n",
    "    \n",
    "#     coordinates = mds.fit_transform(distance_matrix)\n",
    "\n",
    "#     return coordinates\n",
    "\n",
    "def recover_coord_from_adj_matrix(adj_matrix, sigma=3.0, n_components=2, method='smacof', max_iter=300):\n",
    "    from sklearn.manifold import MDS\n",
    "    import warnings"
   ]
  },
  {
   "cell_type": "code",
   "execution_count": 191,
   "metadata": {},
   "outputs": [],
   "source": [
    "#generate sc embeddings\n",
    "scembedding = testmodel.netE(torch.tensor(scdata.values, dtype = torch.float32).cuda())\n",
    "\n",
    "#generate sc adjacency matrix from embeddings\n",
    "sc_adjacency_matrix = gen_sc_adj_matrix(scembedding)\n",
    "\n",
    "#recover coordinates from adjacency matrix\n",
    "recovered_coordinates = recover_coord_from_adj_matrix(sc_adjacency_matrix)\n",
    "\n",
    "#add to AnnData object\n",
    "adata.obsm['MDSSpatial'] = recovered_coordinates"
   ]
  },
  {
   "cell_type": "code",
   "execution_count": 193,
   "metadata": {},
   "outputs": [
    {
     "data": {
      "text/plain": [
       "array([[-0.16331454,  0.75031373],\n",
       "       [ 0.43977416,  0.16300028],\n",
       "       [-0.50681446, -0.49988661],\n",
       "       ...,\n",
       "       [-0.23938644, -0.60675617],\n",
       "       [ 0.40582559,  0.06321056],\n",
       "       [ 0.44911275, -0.60269493]])"
      ]
     },
     "execution_count": 193,
     "metadata": {},
     "output_type": "execute_result"
    }
   ],
   "source": [
    "adata.obsm['MDSSpatial']"
   ]
  },
  {
   "cell_type": "code",
   "execution_count": 194,
   "metadata": {},
   "outputs": [
    {
     "data": {
      "text/plain": [
       "array([[1627.29216741, 1349.74699412],\n",
       "       [1625.44197922, 1348.43905111],\n",
       "       [1625.99117369, 1336.13772766],\n",
       "       ...,\n",
       "       [1550.36125401, 1536.50573694],\n",
       "       [1556.35831   , 1521.93157017],\n",
       "       [1553.71221347, 1518.64542879]])"
      ]
     },
     "execution_count": 194,
     "metadata": {},
     "output_type": "execute_result"
    }
   ],
   "source": [
    "adata.obsm['SpatialDA']"
   ]
  },
  {
   "cell_type": "code",
   "execution_count": 225,
   "metadata": {},
   "outputs": [],
   "source": [
    "def distance_from_adjacency(adj_matrix, sigma = 3.0, epsilon=1e-10):\n",
    "    #assuming adjacency matrix is normalized so that each row sums to 1\n",
    "\n",
    "    #adjacecny values should be pisitive to avoid log(0)\n",
    "    adj_cleaned = np.maximum(adj_matrix, epsilon)\n",
    "\n",
    "    #apply inverse gaussian kernel transformation\n",
    "    #D_{ij} = sqrt(-2*sigma^2 * ln(S^{SC}_{ij} + epsilon))\n",
    "    distance_squared = -2 * sigma**2 * np.log(adj_cleaned)\n",
    "\n",
    "    #ensure distances are non-negative\n",
    "    distance_squared = np.maximum(distance_squared, 0)\n",
    "\n",
    "    #take square root to get distance\n",
    "    distance_matrix = np.sqrt(distance_squared)\n",
    "\n",
    "    #make the matrix symmetric (average with its transpose)\n",
    "    distance_matrix = 0.5 * (distance_matrix + distance_matrix.T)\n",
    "\n",
    "    #check range of distances\n",
    "    dist_min, dist_max = np.min(distance_matrix), np.max(distance_matrix)\n",
    "    print(f'distance range: [{dist_min:.4f}, {dist_max:.4f}]')\n",
    "\n",
    "    #if range too wide, scale distances to reasonable range\n",
    "    #will help mds converge faster\n",
    "    if dist_max > 100 * dist_min:\n",
    "        scaling_factor = 10.0/ dist_max\n",
    "        distance_matrix *= scaling_factor\n",
    "        print(f'scaled distances by factor {scaling_factor:.6f}')\n",
    "\n",
    "    return distance_matrix\n",
    "\n",
    "\n",
    "def coordinates_from_adjacency(adj_matrix, sigma=3.0, n_components=2, max_iter = 300):\n",
    "    from sklearn.manifold import MDS\n",
    "    from sklearn.decomposition import PCA\n",
    "    #recover distance from adjacency\n",
    "    distance_matrix = distance_from_adjacency(adj_matrix,  sigma)\n",
    "\n",
    "    #appl mds to recover coordinates\n",
    "    initial_coords = PCA(n_components=n_components).fit_transform(distance_matrix)\n",
    "    mds = MDS(n_components=n_components,\n",
    "              dissimilarity='precomputed',\n",
    "              random_state = 42,\n",
    "              normalized_stress= 'auto',\n",
    "              metric = False,\n",
    "              max_iter = max_iter,\n",
    "              n_init = 1,\n",
    "              eps = 1e-5,\n",
    "              init = initial_coords)\n",
    "    \n",
    "    try:\n",
    "        print('running MDS.....')\n",
    "        coordinates = mds.fit_transform(distance_matrix)\n",
    "        print(f'MDS completed in {mds.n_iter_} iterations')\n",
    "        print(f'value of stress is {mds.stress_}')\n",
    "        return coordinates\n",
    "    except Exception as e:\n",
    "        error_message = f\"MDS failed: {e}\"\n",
    "        print(error_message)\n",
    "        print(\"Distance matrix statistics:\")\n",
    "        print(f\"  Shape: {distance_matrix.shape}\")\n",
    "        print(f\"  Min: {np.min(distance_matrix):.6e}\")\n",
    "        print(f\"  Max: {np.max(distance_matrix):.6e}\")\n",
    "        print(f\"  Mean: {np.mean(distance_matrix):.6e}\")\n",
    "        print(f\"  Median: {np.median(distance_matrix):.6e}\")\n",
    "        print(f\"  Contains NaN: {np.isnan(distance_matrix).any()}\")\n",
    "        print(f\"  Contains Inf: {np.isinf(distance_matrix).any()}\")\n",
    "\n",
    "        # Return the error instead of falling back to a simpler approach\n",
    "        raise ValueError(f\"MDS failed with Gaussian kernel approach: {error_message}. \"\n",
    "                     f\"Consider increasing max_iter, adjusting sigma, or using a different approach.\")\n",
    "    \n",
    "    # coordinates = mds.fit_transform(distance_matrix)\n",
    "\n",
    "    # return coordinates\n",
    "\n",
    "def sc_coordinates_from_embeddings(sc_embeddings, sigma=3.0, max_iter = 300):\n",
    "    if isinstance(sc_embeddings, torch.Tensor):\n",
    "        embeddings = sc_embeddings.detach().cpu().numpy()\n",
    "    else:\n",
    "        embeddings = sc_embeddings\n",
    "\n",
    "    #calculate SC spatial adjacency matrix using inner products \n",
    "    sc_adjacency_matrix = np.matmul(embeddings, embeddings.T)\n",
    "\n",
    "    #normalize rows to sum to 1\n",
    "    row_sums = sc_adjacency_matrix.sum(axis=1, keepdims=True)\n",
    "    sc_adjacency_matrix_norm = sc_adjacency_matrix / row_sums\n",
    "\n",
    "    #recover coordinates using inverse gaussian kernel and MDS\n",
    "    coordinates = coordinates_from_adjacency(sc_adjacency_matrix_norm, sigma = 3.0, max_iter = max_iter)\n",
    "\n",
    "    return coordinates, sc_adjacency_matrix_norm"
   ]
  },
  {
   "cell_type": "code",
   "execution_count": 226,
   "metadata": {},
   "outputs": [
    {
     "name": "stdout",
     "output_type": "stream",
     "text": [
      "distance range: [12.4292, 13.4399]\n"
     ]
    },
    {
     "ename": "TypeError",
     "evalue": "MDS.__init__() got an unexpected keyword argument 'init'",
     "output_type": "error",
     "traceback": [
      "\u001b[0;31m---------------------------------------------------------------------------\u001b[0m",
      "\u001b[0;31mTypeError\u001b[0m                                 Traceback (most recent call last)",
      "Cell \u001b[0;32mIn[226], line 6\u001b[0m\n\u001b[1;32m      3\u001b[0m scembedding \u001b[38;5;241m=\u001b[39m testmodel\u001b[38;5;241m.\u001b[39mnetE(torch\u001b[38;5;241m.\u001b[39mtensor(scdata\u001b[38;5;241m.\u001b[39mvalues, dtype\u001b[38;5;241m=\u001b[39mtorch\u001b[38;5;241m.\u001b[39mfloat32)\u001b[38;5;241m.\u001b[39mcuda())\n\u001b[1;32m      5\u001b[0m \u001b[38;5;66;03m#get coordinates from embeddings \u001b[39;00m\n\u001b[0;32m----> 6\u001b[0m recovered_coords, sc_adjacency_matrix \u001b[38;5;241m=\u001b[39m \u001b[43msc_coordinates_from_embeddings\u001b[49m\u001b[43m(\u001b[49m\u001b[43mscembedding\u001b[49m\u001b[43m,\u001b[49m\u001b[43m \u001b[49m\u001b[43msigma\u001b[49m\u001b[43m \u001b[49m\u001b[38;5;241;43m=\u001b[39;49m\u001b[43m \u001b[49m\u001b[43mopt\u001b[49m\u001b[38;5;241;43m.\u001b[39;49m\u001b[43msigma\u001b[49m\u001b[43m,\u001b[49m\u001b[43m \u001b[49m\u001b[43mmax_iter\u001b[49m\u001b[43m \u001b[49m\u001b[38;5;241;43m=\u001b[39;49m\u001b[43m \u001b[49m\u001b[38;5;241;43m100\u001b[39;49m\u001b[43m)\u001b[49m\n",
      "Cell \u001b[0;32mIn[225], line 92\u001b[0m, in \u001b[0;36msc_coordinates_from_embeddings\u001b[0;34m(sc_embeddings, sigma, max_iter)\u001b[0m\n\u001b[1;32m     89\u001b[0m sc_adjacency_matrix_norm \u001b[38;5;241m=\u001b[39m sc_adjacency_matrix \u001b[38;5;241m/\u001b[39m row_sums\n\u001b[1;32m     91\u001b[0m \u001b[38;5;66;03m#recover coordinates using inverse gaussian kernel and MDS\u001b[39;00m\n\u001b[0;32m---> 92\u001b[0m coordinates \u001b[38;5;241m=\u001b[39m \u001b[43mcoordinates_from_adjacency\u001b[49m\u001b[43m(\u001b[49m\u001b[43msc_adjacency_matrix_norm\u001b[49m\u001b[43m,\u001b[49m\u001b[43m \u001b[49m\u001b[43msigma\u001b[49m\u001b[43m \u001b[49m\u001b[38;5;241;43m=\u001b[39;49m\u001b[43m \u001b[49m\u001b[38;5;241;43m3.0\u001b[39;49m\u001b[43m,\u001b[49m\u001b[43m \u001b[49m\u001b[43mmax_iter\u001b[49m\u001b[43m \u001b[49m\u001b[38;5;241;43m=\u001b[39;49m\u001b[43m \u001b[49m\u001b[43mmax_iter\u001b[49m\u001b[43m)\u001b[49m\n\u001b[1;32m     94\u001b[0m \u001b[38;5;28;01mreturn\u001b[39;00m coordinates, sc_adjacency_matrix_norm\n",
      "Cell \u001b[0;32mIn[225], line 42\u001b[0m, in \u001b[0;36mcoordinates_from_adjacency\u001b[0;34m(adj_matrix, sigma, n_components, max_iter)\u001b[0m\n\u001b[1;32m     40\u001b[0m \u001b[38;5;66;03m#appl mds to recover coordinates\u001b[39;00m\n\u001b[1;32m     41\u001b[0m initial_coords \u001b[38;5;241m=\u001b[39m PCA(n_components\u001b[38;5;241m=\u001b[39mn_components)\u001b[38;5;241m.\u001b[39mfit_transform(distance_matrix)\n\u001b[0;32m---> 42\u001b[0m mds \u001b[38;5;241m=\u001b[39m \u001b[43mMDS\u001b[49m\u001b[43m(\u001b[49m\u001b[43mn_components\u001b[49m\u001b[38;5;241;43m=\u001b[39;49m\u001b[43mn_components\u001b[49m\u001b[43m,\u001b[49m\n\u001b[1;32m     43\u001b[0m \u001b[43m          \u001b[49m\u001b[43mdissimilarity\u001b[49m\u001b[38;5;241;43m=\u001b[39;49m\u001b[38;5;124;43m'\u001b[39;49m\u001b[38;5;124;43mprecomputed\u001b[39;49m\u001b[38;5;124;43m'\u001b[39;49m\u001b[43m,\u001b[49m\n\u001b[1;32m     44\u001b[0m \u001b[43m          \u001b[49m\u001b[43mrandom_state\u001b[49m\u001b[43m \u001b[49m\u001b[38;5;241;43m=\u001b[39;49m\u001b[43m \u001b[49m\u001b[38;5;241;43m42\u001b[39;49m\u001b[43m,\u001b[49m\n\u001b[1;32m     45\u001b[0m \u001b[43m          \u001b[49m\u001b[43mnormalized_stress\u001b[49m\u001b[38;5;241;43m=\u001b[39;49m\u001b[43m \u001b[49m\u001b[38;5;124;43m'\u001b[39;49m\u001b[38;5;124;43mauto\u001b[39;49m\u001b[38;5;124;43m'\u001b[39;49m\u001b[43m,\u001b[49m\n\u001b[1;32m     46\u001b[0m \u001b[43m          \u001b[49m\u001b[43mmetric\u001b[49m\u001b[43m \u001b[49m\u001b[38;5;241;43m=\u001b[39;49m\u001b[43m \u001b[49m\u001b[38;5;28;43;01mFalse\u001b[39;49;00m\u001b[43m,\u001b[49m\n\u001b[1;32m     47\u001b[0m \u001b[43m          \u001b[49m\u001b[43mmax_iter\u001b[49m\u001b[43m \u001b[49m\u001b[38;5;241;43m=\u001b[39;49m\u001b[43m \u001b[49m\u001b[43mmax_iter\u001b[49m\u001b[43m,\u001b[49m\n\u001b[1;32m     48\u001b[0m \u001b[43m          \u001b[49m\u001b[43mn_init\u001b[49m\u001b[43m \u001b[49m\u001b[38;5;241;43m=\u001b[39;49m\u001b[43m \u001b[49m\u001b[38;5;241;43m1\u001b[39;49m\u001b[43m,\u001b[49m\n\u001b[1;32m     49\u001b[0m \u001b[43m          \u001b[49m\u001b[43meps\u001b[49m\u001b[43m \u001b[49m\u001b[38;5;241;43m=\u001b[39;49m\u001b[43m \u001b[49m\u001b[38;5;241;43m1e-5\u001b[39;49m\u001b[43m,\u001b[49m\n\u001b[1;32m     50\u001b[0m \u001b[43m          \u001b[49m\u001b[43minit\u001b[49m\u001b[43m \u001b[49m\u001b[38;5;241;43m=\u001b[39;49m\u001b[43m \u001b[49m\u001b[43minitial_coords\u001b[49m\u001b[43m)\u001b[49m\n\u001b[1;32m     52\u001b[0m \u001b[38;5;28;01mtry\u001b[39;00m:\n\u001b[1;32m     53\u001b[0m     \u001b[38;5;28mprint\u001b[39m(\u001b[38;5;124m'\u001b[39m\u001b[38;5;124mrunning MDS.....\u001b[39m\u001b[38;5;124m'\u001b[39m)\n",
      "\u001b[0;31mTypeError\u001b[0m: MDS.__init__() got an unexpected keyword argument 'init'"
     ]
    }
   ],
   "source": [
    "#generate SC embeddings\n",
    "testmodel.modeleval()\n",
    "scembedding = testmodel.netE(torch.tensor(scdata.values, dtype=torch.float32).cuda())\n",
    "\n",
    "#get coordinates from embeddings \n",
    "recovered_coords, sc_adjacency_matrix = sc_coordinates_from_embeddings(scembedding, sigma = opt.sigma, max_iter = 100)"
   ]
  },
  {
   "cell_type": "code",
   "execution_count": 220,
   "metadata": {},
   "outputs": [
    {
     "data": {
      "text/plain": [
       "array([[-0.11206713,  0.45554845],\n",
       "       [ 0.260868  ,  0.10569503],\n",
       "       [-0.32683856, -0.32333828],\n",
       "       ...,\n",
       "       [-0.24532733, -0.48552892],\n",
       "       [ 0.29564756,  0.05532238],\n",
       "       [ 0.5017872 , -0.59226047]])"
      ]
     },
     "execution_count": 220,
     "metadata": {},
     "output_type": "execute_result"
    }
   ],
   "source": [
    "recovered_coords"
   ]
  },
  {
   "cell_type": "code",
   "execution_count": 217,
   "metadata": {},
   "outputs": [
    {
     "name": "stdout",
     "output_type": "stream",
     "text": [
      "distance range: [12.4292, 13.4399]\n",
      "running MDS.....\n",
      "MDS completed in 2 iterations\n",
      "value of stress is 0.3023023554146359\n"
     ]
    }
   ],
   "source": [
    "#generate SC embeddings\n",
    "testmodel.modeleval()\n",
    "scembedding = testmodel.netE(torch.tensor(scdata.values, dtype=torch.float32).cuda())\n",
    "\n",
    "#get coordinates from embeddings \n",
    "recovered_coords_1, sc_adjacency_matrix = sc_coordinates_from_embeddings(scembedding, sigma = opt.sigma, max_iter = 500)"
   ]
  },
  {
   "cell_type": "code",
   "execution_count": 210,
   "metadata": {},
   "outputs": [
    {
     "name": "stdout",
     "output_type": "stream",
     "text": [
      "distance range: [12.4292, 13.4399]\n",
      "running MDS.....\n",
      "MDS completed in 800 iterations\n"
     ]
    }
   ],
   "source": [
    "#generate SC embeddings\n",
    "testmodel.modeleval()\n",
    "scembedding = testmodel.netE(torch.tensor(scdata.values, dtype=torch.float32).cuda())\n",
    "\n",
    "#get coordinates from embeddings \n",
    "recovered_coords_2, sc_adjacency_matrix = sc_coordinates_from_embeddings(scembedding, sigma = opt.sigma, max_iter = 800)"
   ]
  },
  {
   "cell_type": "code",
   "execution_count": 211,
   "metadata": {},
   "outputs": [
    {
     "data": {
      "text/plain": [
       "array([[-1.57309198,  7.51784355],\n",
       "       [ 7.20429536,  2.87709859],\n",
       "       [-7.1595635 , -7.08994888],\n",
       "       ...,\n",
       "       [-3.66975646, -9.12048066],\n",
       "       [ 5.28815358,  0.90581709],\n",
       "       [ 6.04676095, -8.0485039 ]])"
      ]
     },
     "execution_count": 211,
     "metadata": {},
     "output_type": "execute_result"
    }
   ],
   "source": [
    "recovered_coords_2"
   ]
  },
  {
   "cell_type": "code",
   "execution_count": 209,
   "metadata": {},
   "outputs": [
    {
     "data": {
      "text/plain": [
       "array([[-1.91521344,  8.02177978],\n",
       "       [ 6.48167989,  2.5084535 ],\n",
       "       [-7.12569612, -7.13461656],\n",
       "       ...,\n",
       "       [-3.6721057 , -9.18012475],\n",
       "       [ 4.97039548,  0.64029698],\n",
       "       [ 6.08493159, -8.04453808]])"
      ]
     },
     "execution_count": 209,
     "metadata": {},
     "output_type": "execute_result"
    }
   ],
   "source": [
    "recovered_coords_1"
   ]
  },
  {
   "cell_type": "code",
   "execution_count": 202,
   "metadata": {},
   "outputs": [
    {
     "data": {
      "text/plain": [
       "array([[-1.9156618 ,  8.5463558 ],\n",
       "       [ 5.82427083,  2.42566554],\n",
       "       [-7.20588915, -7.10971964],\n",
       "       ...,\n",
       "       [-3.78128498, -9.19497135],\n",
       "       [ 4.89969266,  0.73432087],\n",
       "       [ 6.10946935, -8.07416432]])"
      ]
     },
     "execution_count": 202,
     "metadata": {},
     "output_type": "execute_result"
    }
   ],
   "source": [
    "recovered_coords"
   ]
  },
  {
   "cell_type": "code",
   "execution_count": 199,
   "metadata": {},
   "outputs": [
    {
     "data": {
      "text/plain": [
       "tensor([[ 0.1940, -1.2524,  0.0839,  ..., -0.4363,  0.3484, -0.0688],\n",
       "        [ 0.3140, -0.9275, -0.0646,  ..., -0.4137,  0.4129,  0.1386],\n",
       "        [ 0.2854, -1.0332, -0.5846,  ...,  0.1499,  0.5140, -0.3145],\n",
       "        ...,\n",
       "        [-0.1881, -1.8073, -0.7278,  ..., -1.2491,  0.2379, -0.2599],\n",
       "        [ 0.3583, -1.7920, -0.2019,  ..., -1.0905, -0.0391,  0.2596],\n",
       "        [ 0.5933, -1.4357, -0.1443,  ..., -0.7041,  0.0051,  0.1786]],\n",
       "       device='cuda:0', grad_fn=<AddmmBackward0>)"
      ]
     },
     "execution_count": 199,
     "metadata": {},
     "output_type": "execute_result"
    }
   ],
   "source": [
    "scembedding"
   ]
  },
  {
   "cell_type": "code",
   "execution_count": 184,
   "metadata": {},
   "outputs": [],
   "source": [
    "adj_matrix = np.array([\n",
    "    [2, 4, 6], \n",
    "    [1, 3, 5], \n",
    "    [7, 8, 9]\n",
    "])\n"
   ]
  },
  {
   "cell_type": "code",
   "execution_count": 185,
   "metadata": {},
   "outputs": [
    {
     "data": {
      "text/plain": [
       "array([12,  9, 24])"
      ]
     },
     "execution_count": 185,
     "metadata": {},
     "output_type": "execute_result"
    }
   ],
   "source": [
    "row_sums = adj_matrix.sum(axis=1)\n",
    "row_sums\n"
   ]
  },
  {
   "cell_type": "code",
   "execution_count": 186,
   "metadata": {},
   "outputs": [],
   "source": [
    "adj_matrix = adj_matrix / row_sums[:, np.newaxis]"
   ]
  },
  {
   "cell_type": "code",
   "execution_count": 188,
   "metadata": {},
   "outputs": [
    {
     "data": {
      "text/plain": [
       "array([[12,  9, 24]])"
      ]
     },
     "execution_count": 188,
     "metadata": {},
     "output_type": "execute_result"
    }
   ],
   "source": [
    "row_sums[np.newaxis, :]"
   ]
  },
  {
   "cell_type": "code",
   "execution_count": 195,
   "metadata": {},
   "outputs": [
    {
     "data": {
      "text/html": [
       "<div>\n",
       "<style scoped>\n",
       "    .dataframe tbody tr th:only-of-type {\n",
       "        vertical-align: middle;\n",
       "    }\n",
       "\n",
       "    .dataframe tbody tr th {\n",
       "        vertical-align: top;\n",
       "    }\n",
       "\n",
       "    .dataframe thead th {\n",
       "        text-align: right;\n",
       "    }\n",
       "</style>\n",
       "<table border=\"1\" class=\"dataframe\">\n",
       "  <thead>\n",
       "    <tr style=\"text-align: right;\">\n",
       "      <th></th>\n",
       "      <th>coord_x</th>\n",
       "      <th>coord_y</th>\n",
       "    </tr>\n",
       "  </thead>\n",
       "  <tbody>\n",
       "    <tr>\n",
       "      <th>ST_12</th>\n",
       "      <td>1581.242732</td>\n",
       "      <td>1329.313864</td>\n",
       "    </tr>\n",
       "    <tr>\n",
       "      <th>ST_13</th>\n",
       "      <td>1586.662026</td>\n",
       "      <td>1329.313864</td>\n",
       "    </tr>\n",
       "    <tr>\n",
       "      <th>ST_42</th>\n",
       "      <td>1581.242732</td>\n",
       "      <td>1334.863919</td>\n",
       "    </tr>\n",
       "    <tr>\n",
       "      <th>ST_43</th>\n",
       "      <td>1586.662026</td>\n",
       "      <td>1334.863919</td>\n",
       "    </tr>\n",
       "    <tr>\n",
       "      <th>ST_49</th>\n",
       "      <td>1619.177788</td>\n",
       "      <td>1334.863919</td>\n",
       "    </tr>\n",
       "    <tr>\n",
       "      <th>...</th>\n",
       "      <td>...</td>\n",
       "      <td>...</td>\n",
       "    </tr>\n",
       "    <tr>\n",
       "      <th>ST_1182</th>\n",
       "      <td>1581.242732</td>\n",
       "      <td>1545.766004</td>\n",
       "    </tr>\n",
       "    <tr>\n",
       "      <th>ST_1183</th>\n",
       "      <td>1586.662026</td>\n",
       "      <td>1545.766004</td>\n",
       "    </tr>\n",
       "    <tr>\n",
       "      <th>ST_1184</th>\n",
       "      <td>1592.081319</td>\n",
       "      <td>1545.766004</td>\n",
       "    </tr>\n",
       "    <tr>\n",
       "      <th>ST_1185</th>\n",
       "      <td>1597.500613</td>\n",
       "      <td>1545.766004</td>\n",
       "    </tr>\n",
       "    <tr>\n",
       "      <th>ST_1186</th>\n",
       "      <td>1602.919907</td>\n",
       "      <td>1545.766004</td>\n",
       "    </tr>\n",
       "  </tbody>\n",
       "</table>\n",
       "<p>581 rows × 2 columns</p>\n",
       "</div>"
      ],
      "text/plain": [
       "             coord_x      coord_y\n",
       "ST_12    1581.242732  1329.313864\n",
       "ST_13    1586.662026  1329.313864\n",
       "ST_42    1581.242732  1334.863919\n",
       "ST_43    1586.662026  1334.863919\n",
       "ST_49    1619.177788  1334.863919\n",
       "...              ...          ...\n",
       "ST_1182  1581.242732  1545.766004\n",
       "ST_1183  1586.662026  1545.766004\n",
       "ST_1184  1592.081319  1545.766004\n",
       "ST_1185  1597.500613  1545.766004\n",
       "ST_1186  1602.919907  1545.766004\n",
       "\n",
       "[581 rows x 2 columns]"
      ]
     },
     "execution_count": 195,
     "metadata": {},
     "output_type": "execute_result"
    }
   ],
   "source": [
    "spcoor"
   ]
  },
  {
   "cell_type": "code",
   "execution_count": null,
   "metadata": {},
   "outputs": [],
   "source": [
    "def diffusion_map_coordinates(similarity_matrix, n_components=2, t=1):\n",
    "    '''\n",
    "    convert similaruty matrix to coordinates using diffusion maps\n",
    "    '''\n",
    "    import numpy as np\n",
    "    from scipy import linalg\n",
    "    import time\n",
    "\n",
    "    start_time = time.time()\n",
    "\n",
    "    #check similairyt matrix is already row-normalzied\n",
    "    row_sums = similarity_matrix.sum(axis=1)\n",
    "    is_normalized = np.allclose(row_sums, 1.0, rtol = 1e-5)\n",
    "\n",
    "    if not is_normalized:\n",
    "        print('normalizing similarity matrix...')\n",
    "        #normalize rows to sum to 1 (create Markov transition matrix P)\n",
    "        D_inv = np.diag(1.0 / row_sums)\n",
    "        P = D_inv @ similarity_matrix\n",
    "    else:\n",
    "        print('similarity matrix is already normalized')\n",
    "        P = similarity_matrix\n",
    "\n",
    "    #compute eigenvectors and eigenvalues\n",
    "    print('computing eigenvectors and eignevalues....')\n",
    "    try:\n",
    "        # scipy.linalg.eigh for symmetric matrices (faster and more stable)\n",
    "        # if matrix not symmetric, make it symmetric first\n",
    "        P_sym = 0.5 * (P + P.T)\n",
    "        eigenvalues, eigenvectors = linalg.eigh(P_sym)\n",
    "    except:\n",
    "        #fallback to general case\n",
    "        eigenvalues, eigenvectors = linalg.eig(P)\n",
    "        #ensure real parts only cause eigenvals should be real for markov matrices\n",
    "        eigenvalues = np.real(eigenvalues)\n",
    "        eigenvectors = np.real(eigenvectors)\n",
    "\n",
    "\n",
    "    #sort eigenvalues and eignevectors in descending order of eigenvalues\n",
    "    idx = eigenvalues.argsort()[::-1]\n",
    "    eigenvalues = eigenvalues[idx]\n",
    "    eigenvectors = eigenvectors[:, idx]\n",
    "\n",
    "    print(f'largest eigenvalues: {eigenvalues[:n_components+1]}')\n",
    "\n",
    "    #create the diffusion map embedding\n",
    "    #skip the first eigenvector (corresponds to eigenvalue 1) as it is constant\n",
    "    embedding = np.zeros((similarity_matrix.shape[0], n_components))\n",
    "\n",
    "    for i in range(n_components):\n",
    "        #use eigenvalues and eigenvectors from index 1 onwards\n",
    "        embedding[:, i] = eigenvalues[i+1] ** t * eigenvectors[:, i+1]\n",
    "\n",
    "    print(f'diffusion map computed in {time.time() - start_time: .2f} seconds')\n",
    "\n",
    "    return embedding\n",
    "\n",
    "def sc_coordinates_from_diffusion_embeddings(sc_embeddings, n_components=2):\n",
    "    '''use diffusion maps to generate spatial embeddings from SC embeddings'''\n",
    "    start_time = time.time()\n",
    "\n",
    "    if isinstance(sc_embeddings, torch.Tensor):\n",
    "        embeddings = sc_embeddings.detach().cpu().numpy()\n",
    "    else:\n",
    "        embeddings = sc_embeddings\n",
    "\n",
    "    print(f'embeddings shape: {embeddings.shape}')\n",
    "\n"
   ]
  }
 ],
 "metadata": {
  "kernelspec": {
   "display_name": "ehtesamenv_gains",
   "language": "python",
   "name": "python3"
  },
  "language_info": {
   "codemirror_mode": {
    "name": "ipython",
    "version": 3
   },
   "file_extension": ".py",
   "mimetype": "text/x-python",
   "name": "python",
   "nbconvert_exporter": "python",
   "pygments_lexer": "ipython3",
   "version": "3.10.14"
  }
 },
 "nbformat": 4,
 "nbformat_minor": 2
}
