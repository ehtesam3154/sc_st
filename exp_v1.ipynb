{
 "cells": [
  {
   "cell_type": "code",
   "execution_count": null,
   "metadata": {},
   "outputs": [],
   "source": [
    "import numpy as np\n",
    "import os\n",
    "os.environ['CUDA_VISIBLE_DEVICES'] = '1'"
   ]
  },
  {
   "cell_type": "code",
   "execution_count": null,
   "metadata": {},
   "outputs": [],
   "source": [
    "import scanpy as sc\n",
    "import pandas as pd\n",
    "import torch\n",
    "import scipy\n",
    "import time\n",
    "from model import *\n",
    "from utils import *"
   ]
  },
  {
   "cell_type": "code",
   "execution_count": null,
   "metadata": {},
   "outputs": [],
   "source": [
    "scdata = pd.read_csv('/home/ehtesamul/sc_st/data/mousedata_2020/E1z2/simu_sc_counts.csv', index_col = 0)\n",
    "scdata.head(5)"
   ]
  },
  {
   "cell_type": "code",
   "execution_count": null,
   "metadata": {},
   "outputs": [],
   "source": [
    "scdata.shape"
   ]
  },
  {
   "cell_type": "code",
   "execution_count": null,
   "metadata": {},
   "outputs": [],
   "source": [
    "stdata = pd.read_csv('/home/ehtesamul/sc_st/data/mousedata_2020/E1z2/simu_st_counts.csv', index_col = 0)\n",
    "stdata.head(5)"
   ]
  },
  {
   "cell_type": "code",
   "execution_count": null,
   "metadata": {},
   "outputs": [],
   "source": [
    "stdata.shape"
   ]
  },
  {
   "cell_type": "code",
   "execution_count": null,
   "metadata": {},
   "outputs": [],
   "source": [
    "scdata = scdata.T\n",
    "stdata = stdata.T"
   ]
  },
  {
   "cell_type": "code",
   "execution_count": null,
   "metadata": {},
   "outputs": [],
   "source": [
    "stgtcelltype = pd.read_csv('/home/ehtesamul/sc_st/data/mousedata_2020/E1z2/simu_st_celltype.csv', index_col = 0)\n",
    "stgtcelltype.head(5)"
   ]
  },
  {
   "cell_type": "code",
   "execution_count": null,
   "metadata": {},
   "outputs": [],
   "source": [
    "stgtcelltype.shape"
   ]
  },
  {
   "cell_type": "code",
   "execution_count": null,
   "metadata": {},
   "outputs": [],
   "source": [
    "scdata.head(5)"
   ]
  },
  {
   "cell_type": "code",
   "execution_count": null,
   "metadata": {},
   "outputs": [],
   "source": [
    "stdata.head(5)"
   ]
  },
  {
   "cell_type": "code",
   "execution_count": null,
   "metadata": {},
   "outputs": [],
   "source": [
    "stdata.shape"
   ]
  },
  {
   "cell_type": "code",
   "execution_count": null,
   "metadata": {},
   "outputs": [],
   "source": [
    "spcoor = pd.read_csv('/home/ehtesamul/sc_st/data/mousedata_2020/E1z2/simu_st_metadata.csv', index_col=0)\n",
    "spcoor.head(5)"
   ]
  },
  {
   "cell_type": "code",
   "execution_count": null,
   "metadata": {},
   "outputs": [],
   "source": [
    "spcoor.shape"
   ]
  },
  {
   "cell_type": "code",
   "execution_count": null,
   "metadata": {},
   "outputs": [],
   "source": [
    "scmetadata = pd.read_csv('/home/ehtesamul/sc_st/data/mousedata_2020/E1z2/metadata.csv', index_col = 0)\n",
    "scmetadata.head(5)"
   ]
  },
  {
   "cell_type": "code",
   "execution_count": null,
   "metadata": {},
   "outputs": [],
   "source": [
    "scmetadata.shape"
   ]
  },
  {
   "cell_type": "code",
   "execution_count": null,
   "metadata": {},
   "outputs": [],
   "source": [
    "adata = sc.AnnData(scdata, obs=scmetadata)\n",
    "adata"
   ]
  },
  {
   "cell_type": "code",
   "execution_count": null,
   "metadata": {},
   "outputs": [],
   "source": [
    "adata.X"
   ]
  },
  {
   "cell_type": "code",
   "execution_count": null,
   "metadata": {},
   "outputs": [],
   "source": [
    "adata.var_names"
   ]
  },
  {
   "cell_type": "code",
   "execution_count": null,
   "metadata": {},
   "outputs": [],
   "source": [
    "adata.obs_names"
   ]
  },
  {
   "cell_type": "code",
   "execution_count": null,
   "metadata": {},
   "outputs": [],
   "source": [
    "scdata.head(5)"
   ]
  },
  {
   "cell_type": "code",
   "execution_count": null,
   "metadata": {},
   "outputs": [],
   "source": [
    "scmetadata"
   ]
  },
  {
   "cell_type": "code",
   "execution_count": null,
   "metadata": {},
   "outputs": [],
   "source": [
    "new_scdata = pd.DataFrame(adata.X,index=adata.obs_names,columns=adata.var_names)\n",
    "new_scdata.head(5)"
   ]
  },
  {
   "cell_type": "code",
   "execution_count": null,
   "metadata": {},
   "outputs": [],
   "source": [
    "adata.obs['embryo']"
   ]
  },
  {
   "cell_type": "code",
   "execution_count": null,
   "metadata": {},
   "outputs": [],
   "source": [
    "scdata.head(5)"
   ]
  },
  {
   "cell_type": "code",
   "execution_count": null,
   "metadata": {},
   "outputs": [],
   "source": [
    "new_scdata.head(5)"
   ]
  },
  {
   "cell_type": "code",
   "execution_count": null,
   "metadata": {},
   "outputs": [],
   "source": [
    "adata.obs"
   ]
  },
  {
   "cell_type": "code",
   "execution_count": null,
   "metadata": {},
   "outputs": [],
   "source": [
    "scdata = new_scdata\n",
    "stadata = sc.AnnData(stdata)\n",
    "sc.pp.normalize_total(stadata)\n",
    "sc.pp.log1p(stadata)\n",
    "stdata = pd.DataFrame(stadata.X, index = stadata.obs_names, columns = stadata.var_names)"
   ]
  },
  {
   "cell_type": "code",
   "execution_count": null,
   "metadata": {},
   "outputs": [],
   "source": [
    "adata.obsm['spatial'] = scmetadata[['x_global', 'y_global']].values"
   ]
  },
  {
   "cell_type": "code",
   "execution_count": null,
   "metadata": {},
   "outputs": [],
   "source": [
    "adata.obs"
   ]
  },
  {
   "cell_type": "code",
   "execution_count": null,
   "metadata": {},
   "outputs": [],
   "source": [
    "spcoor"
   ]
  },
  {
   "cell_type": "code",
   "execution_count": null,
   "metadata": {},
   "outputs": [],
   "source": [
    "adata.obsm['spatial']"
   ]
  },
  {
   "cell_type": "code",
   "execution_count": null,
   "metadata": {},
   "outputs": [],
   "source": [
    "sc.pp.calculate_qc_metrics(adata, percent_top=None, log1p=False, inplace=True)\n",
    "adata.obs"
   ]
  },
  {
   "cell_type": "code",
   "execution_count": null,
   "metadata": {},
   "outputs": [],
   "source": [
    "sc.pp.calculate_qc_metrics(stadata,percent_top=None, log1p=False, inplace=True)\n"
   ]
  },
  {
   "cell_type": "code",
   "execution_count": null,
   "metadata": {},
   "outputs": [],
   "source": [
    "dp = 1- adata.obs['n_genes_by_counts'].median()/stadata.obs['n_genes_by_counts'].median()\n",
    "dp"
   ]
  },
  {
   "cell_type": "code",
   "execution_count": null,
   "metadata": {},
   "outputs": [],
   "source": [
    "class setting( object ):\n",
    "    pass\n",
    "seed_all(2022)\n",
    "opt= setting()\n",
    "setattr(opt, 'device', 'cuda:0') # device\n",
    "setattr(opt, 'outf', 'log/test') # folder to save log files\n",
    "setattr(opt, 'n_genes', 351) # number of genes for the input\n",
    "setattr(opt, 'no_bn', False) # duplicated\n",
    "setattr(opt, 'lr', 0.002) # learning rate\n",
    "setattr(opt, 'sigma', 3)  # the spatial variance parameter in the Gaussian function\n",
    "setattr(opt, 'alpha', 0.8) # MMD loss weight default:0.8\n",
    "setattr(opt, 'verbose', True) # verbose\n",
    "setattr(opt, 'mmdbatch', 1000) # batch for MMD loss\n",
    "setattr(opt, 'dp', dp) # dropout rate for ST data"
   ]
  },
  {
   "cell_type": "code",
   "execution_count": null,
   "metadata": {},
   "outputs": [],
   "source": [
    "opt.device"
   ]
  },
  {
   "cell_type": "code",
   "execution_count": null,
   "metadata": {},
   "outputs": [],
   "source": [
    "if not os.path.exists(opt.outf):\n",
    "    os.makedirs(opt.outf)"
   ]
  },
  {
   "cell_type": "code",
   "execution_count": null,
   "metadata": {},
   "outputs": [],
   "source": [
    "spcoor"
   ]
  },
  {
   "cell_type": "code",
   "execution_count": null,
   "metadata": {},
   "outputs": [],
   "source": [
    "stgtcelltype"
   ]
  },
  {
   "cell_type": "code",
   "execution_count": null,
   "metadata": {},
   "outputs": [],
   "source": [
    "stadata.obs"
   ]
  },
  {
   "cell_type": "code",
   "execution_count": null,
   "metadata": {},
   "outputs": [],
   "source": [
    "import matplotlib.pyplot as plt\n",
    "import scanpy as sc\n",
    "\n",
    "# Set figure size\n",
    "plt.figure(figsize=(10, 5))\n",
    "\n",
    "# Create the violin plots\n",
    "sc.pl.violin(stadata, ['n_genes_by_counts', 'total_counts'], \n",
    "             jitter=0.4, multi_panel=True)"
   ]
  },
  {
   "cell_type": "code",
   "execution_count": null,
   "metadata": {},
   "outputs": [],
   "source": [
    "sc.pl.violin(adata, ['n_genes_by_counts', 'total_counts'],jitter=0.4, multi_panel=True)"
   ]
  },
  {
   "cell_type": "code",
   "execution_count": null,
   "metadata": {},
   "outputs": [],
   "source": [
    "st_neighbor = scipy.spatial.distance.cdist(spcoor, spcoor)\n",
    "sigma = 3\n",
    "st_neighbor = np.exp(-st_neighbor ** 2/ (2*sigma**2))/ (np.sqrt(2*np.pi)*sigma)"
   ]
  },
  {
   "cell_type": "code",
   "execution_count": null,
   "metadata": {},
   "outputs": [],
   "source": [
    "plt.figure(figsize=(10, 5))\n",
    "plt.scatter(spcoor.values[:, 0], spcoor.values[:, 1], c=np.log1p(st_neighbor[400, :]), s=20)"
   ]
  },
  {
   "cell_type": "code",
   "execution_count": null,
   "metadata": {},
   "outputs": [],
   "source": [
    "class setting( object ):\n",
    "    pass\n",
    "seed_all(2022)\n",
    "opt= setting()\n",
    "setattr(opt, 'device', 'cuda:0')\n",
    "setattr(opt, 'outf', 'log/Mouse_E1z2')\n",
    "setattr(opt, 'n_genes', 351)\n",
    "setattr(opt, 'no_bn', False)\n",
    "setattr(opt, 'lr', 0.002)\n",
    "setattr(opt, 'sigma', 3)\n",
    "setattr(opt, 'alpha', 0.8)\n",
    "setattr(opt, 'verbose', True)\n",
    "setattr(opt, 'mmdbatch', 1000)\n",
    "setattr(opt, 'dp', dp)"
   ]
  },
  {
   "cell_type": "code",
   "execution_count": null,
   "metadata": {},
   "outputs": [],
   "source": [
    "%%time\n",
    "testmodel = SOmodel(opt)\n",
    "testmodel.togpu()\n",
    "loss_curve = testmodel.train_wholedata(400, torch.tensor(scdata.values).float(), torch.tensor(stdata.values).float(), torch.tensor(spcoor.values).float())"
   ]
  },
  {
   "cell_type": "code",
   "execution_count": null,
   "metadata": {},
   "outputs": [],
   "source": [
    "plt.figure(figsize=(10,6))\n",
    "skip = 10\n",
    "N = len(loss_curve['E']) - skip\n",
    "plt.plot(np.arange(N), loss_curve['E'][skip:], label='E')\n",
    "plt.plot(np.arange(N), loss_curve['E_pred'][skip:], label='E_pred')\n",
    "plt.plot(np.arange(N), loss_curve['E_circle'][skip:], label='E_circle')\n",
    "plt.plot(np.arange(N), loss_curve['E_mmd'][skip:], label='E_mmd')\n",
    "plt.legend()"
   ]
  },
  {
   "cell_type": "code",
   "execution_count": null,
   "metadata": {},
   "outputs": [],
   "source": [
    "testmodel.modeleval()\n",
    "scembedding = testmodel.netE(torch.tensor(scdata.values, dtype=torch.float32).cuda())\n",
    "stembedding = testmodel.netE(torch.tensor(stdata.values, dtype=torch.float32).cuda())\n",
    "netst2sc = F.softmax(stembedding.mm(scembedding.t()),dim=1).detach().cpu().numpy()\n",
    "netsc2st = F.softmax(scembedding.mm(stembedding.t()), dim=1).detach().cpu().numpy()"
   ]
  },
  {
   "cell_type": "code",
   "execution_count": null,
   "metadata": {},
   "outputs": [],
   "source": [
    "netst2sc.shape"
   ]
  },
  {
   "cell_type": "code",
   "execution_count": null,
   "metadata": {},
   "outputs": [],
   "source": [
    "netsc2st.shape"
   ]
  },
  {
   "cell_type": "code",
   "execution_count": null,
   "metadata": {},
   "outputs": [],
   "source": [
    "from datetime import datetime\n",
    "timestamp = datetime.now().strftime('%Y%m%d_%H%M%S')\n",
    "dataset_name = 'E1z2'\n",
    "result_dir = f'result/{timestamp}_{dataset_name}'\n",
    "os.makedirs(result_dir, exist_ok=True)\n",
    "\n",
    "np.save(f'{result_dir}/st2sc_mapping.npy', netst2sc)\n",
    "np.save(f'{result_dir}/sc2st_mapping.npy', netsc2st)\n",
    "np.save(f'{result_dir}/sc_embedding.npy', scembedding.detach().cpu().numpy())\n",
    "np.save(f'{result_dir}/st_embedding.npy', stembedding.detach().cpu().numpy())"
   ]
  },
  {
   "cell_type": "code",
   "execution_count": null,
   "metadata": {},
   "outputs": [],
   "source": [
    "testmodel.save()"
   ]
  },
  {
   "cell_type": "code",
   "execution_count": null,
   "metadata": {},
   "outputs": [],
   "source": [
    "def all_coord(mappingmtx,spcoor):\n",
    "    mappingnorm = mappingmtx.div(mappingmtx.sum(axis=1), axis=0)\n",
    "\n",
    "    spaotsc_coord = np.zeros([mappingnorm.shape[0],2])\n",
    "    spaotsc_coord[:,0] = np.matmul(mappingnorm.values,spcoor.coord_x.values)\n",
    "    spaotsc_coord[:,1] = np.matmul(mappingnorm.values,spcoor.coord_y.values)\n",
    "    return spaotsc_coord\n",
    "\n",
    "def k_coord(mappingmtx,spcoor, k=1):\n",
    "    maskmap = np.zeros_like(mappingmtx)\n",
    "\n",
    "    argmask = np.argsort(1/mappingmtx.values,axis=1)\n",
    "\n",
    "    for i in range(argmask.shape[0]):\n",
    "        for j in range(k):\n",
    "            maskmap[i,argmask[i,j]]=1\n",
    "\n",
    "    mappingnorm = (maskmap*mappingmtx).div((maskmap*mappingmtx).sum(axis=1), axis=0)\n",
    "\n",
    "    spaotsc_coord = np.zeros([mappingnorm.shape[0],2])\n",
    "    spaotsc_coord[:,0] = np.matmul(mappingnorm.values,spcoor.coord_x.values)\n",
    "    spaotsc_coord[:,1] = np.matmul(mappingnorm.values,spcoor.coord_y.values)\n",
    "    return spaotsc_coord"
   ]
  },
  {
   "cell_type": "code",
   "execution_count": null,
   "metadata": {},
   "outputs": [],
   "source": [
    "adata.obsm['SpatialDA'] = all_coord(pd.DataFrame(netsc2st, index=adata.obs_names, columns=stadata.obs_names), spcoor)"
   ]
  },
  {
   "cell_type": "code",
   "execution_count": null,
   "metadata": {},
   "outputs": [],
   "source": [
    "plt.rcParams['pdf.fonttype'] = 42"
   ]
  },
  {
   "cell_type": "code",
   "execution_count": 190,
   "metadata": {},
   "outputs": [],
   "source": [
    "def gen_sc_adj_matrix(sc_embeddings):\n",
    "    #change to numpy array if tensor\n",
    "    if isinstance(sc_embeddings, torch.Tensor):\n",
    "        embeddings = sc_embeddings.detach().cpu().numpy()\n",
    "    else:\n",
    "        embeddings = sc_embeddings\n",
    "\n",
    "    #calculate inner product\n",
    "    adj_matrix = np.matmul(embeddings, embeddings.T)\n",
    "\n",
    "    #normalize it\n",
    "    # row_sums = adj_matrix.sum(axis=1)\n",
    "    # normalized_adj_matrix = adj_matrix / row_sums[:, np.newaxis]\n",
    "    normalized_adj_matrix = adj_matrix / adj_matrix.sum(axis=1, keepdims=True)\n",
    "\n",
    "    return normalized_adj_matrix\n",
    "\n",
    "def recover_coord_from_adj_matrix(adj_matrix, n_components=2):\n",
    "    from sklearn.manifold import MDS\n",
    "\n",
    "    distance_matrix = 1 - adj_matrix\n",
    "    distance_matrix = 0.5 * (distance_matrix + distance_matrix.T)\n",
    "\n",
    "    #apply mds to recover coordinates\n",
    "    mds = MDS(n_components=n_components,\n",
    "              dissimilarity='precomputed',\n",
    "              random_state=42,\n",
    "              normalized_stress='auto')\n",
    "    \n",
    "    coordinates = mds.fit_transform(distance_matrix)\n",
    "\n",
    "    return coordinates"
   ]
  },
  {
   "cell_type": "code",
   "execution_count": 191,
   "metadata": {},
   "outputs": [],
   "source": [
    "#generate sc embeddings\n",
    "scembedding = testmodel.netE(torch.tensor(scdata.values, dtype = torch.float32).cuda())\n",
    "\n",
    "#generate sc adjacency matrix from embeddings\n",
    "sc_adjacency_matrix = gen_sc_adj_matrix(scembedding)\n",
    "\n",
    "#recover coordinates from adjacency matrix\n",
    "recovered_coordinates = recover_coord_from_adj_matrix(sc_adjacency_matrix)\n",
    "\n",
    "#add to AnnData object\n",
    "adata.obsm['MDSSpatial'] = recovered_coordinates"
   ]
  },
  {
   "cell_type": "code",
   "execution_count": 193,
   "metadata": {},
   "outputs": [
    {
     "data": {
      "text/plain": [
       "array([[-0.16331454,  0.75031373],\n",
       "       [ 0.43977416,  0.16300028],\n",
       "       [-0.50681446, -0.49988661],\n",
       "       ...,\n",
       "       [-0.23938644, -0.60675617],\n",
       "       [ 0.40582559,  0.06321056],\n",
       "       [ 0.44911275, -0.60269493]])"
      ]
     },
     "execution_count": 193,
     "metadata": {},
     "output_type": "execute_result"
    }
   ],
   "source": [
    "adata.obsm['MDSSpatial']"
   ]
  },
  {
   "cell_type": "code",
   "execution_count": 194,
   "metadata": {},
   "outputs": [
    {
     "data": {
      "text/plain": [
       "array([[1627.29216741, 1349.74699412],\n",
       "       [1625.44197922, 1348.43905111],\n",
       "       [1625.99117369, 1336.13772766],\n",
       "       ...,\n",
       "       [1550.36125401, 1536.50573694],\n",
       "       [1556.35831   , 1521.93157017],\n",
       "       [1553.71221347, 1518.64542879]])"
      ]
     },
     "execution_count": 194,
     "metadata": {},
     "output_type": "execute_result"
    }
   ],
   "source": [
    "adata.obsm['SpatialDA']"
   ]
  },
  {
   "cell_type": "code",
   "execution_count": 196,
   "metadata": {},
   "outputs": [],
   "source": [
    "def distance_from_adjacency(adj_matrix, sigma = 3.0, epsilon=1e-10):\n",
    "    #assuming adjacency matrix is normalized so that each row sums to 1\n",
    "\n",
    "    #adjacecny values should be pisitive to avoid log(0)\n",
    "    adj_cleaned = np.maximum(adj_matrix, epsilon)\n",
    "\n",
    "    #apply inverse gaussian kernel transformation\n",
    "    #D_{ij} = sqrt(-2*sigma^2 * ln(S^{SC}_{ij} + epsilon))\n",
    "    distance_squared = -2 * sigma**2 * np.log(adj_cleaned)\n",
    "\n",
    "    #ensure distances are non-negative\n",
    "    distance_squared = np.maximum(distance_squared, 0)\n",
    "\n",
    "    #take square root to get the distances\n",
    "    distance_matrix = np.maximum(distance_squared, 0)\n",
    "\n",
    "    #take square root to get distance\n",
    "    distance_matrix = np.sqrt(distance_squared)\n",
    "\n",
    "    #make the matrix symmetric (average with its transpose)\n",
    "    distance_matrix = 0.5 * (distance_matrix + distance_matrix.T)\n",
    "\n",
    "    return distance_matrix\n",
    "\n",
    "\n",
    "def coordinates_from_adjacency(adj_matrix, sigma=3.0, n_components=2):\n",
    "    from sklearn.manifold import MDS\n",
    "    #recover distance from adjacency\n",
    "    distance_matrix = distance_from_adjacency(adj_matrix,  sigma)\n",
    "\n",
    "    #appl mds to recover coordinates\n",
    "    mds = MDS(n_components=n_components,\n",
    "              dissimilarity='precomputed',\n",
    "              random_state = 42,\n",
    "              normalized_stress= 'auto')\n",
    "    \n",
    "    coordinates = mds.fit_transform(distance_matrix)\n",
    "\n",
    "    return coordinates\n",
    "\n",
    "def sc_coordinates_from_embeddings(sc_embeddings, sigma=3.0):\n",
    "    if isinstance(sc_embeddings, torch.Tensor):\n",
    "        embeddings = sc_embeddings.detach().cpu().numpy()\n",
    "    else:\n",
    "        embeddings = sc_embeddings\n",
    "\n",
    "    #calculate SC spatial adjacency matrix using inner products \n",
    "    sc_adjacency_matrix = np.matmul(embeddings, embeddings.T)\n",
    "\n",
    "    #normalize rows to sum to 1\n",
    "    row_sums = sc_adjacency_matrix.sum(axis=1, keepdims=True)\n",
    "    sc_adjacency_matrix_norm = sc_adjacency_matrix / row_sums\n",
    "\n",
    "    #recover coordinates using inverse gaussian kernel and MDS\n",
    "    coordinates = coordinates_from_adjacency(sc_adjacency_matrix_norm, sigma = 3.0)\n",
    "\n",
    "    return coordinates, sc_adjacency_matrix_norm"
   ]
  },
  {
   "cell_type": "code",
   "execution_count": null,
   "metadata": {},
   "outputs": [],
   "source": [
    "#generate SC embeddings\n",
    "testmodel.modeleval()\n",
    "scembedding = testmodel.netE(torch.tensor(scdata.values, dtype=torch.float32).cuda())\n",
    "\n",
    "#get coordinates from embeddings \n",
    "recovered_coords, sc_adjacency_matrix = sc_coordinates_from_embeddings(scembedding, sigma = opt.sigma)"
   ]
  },
  {
   "cell_type": "code",
   "execution_count": 184,
   "metadata": {},
   "outputs": [],
   "source": [
    "adj_matrix = np.array([\n",
    "    [2, 4, 6], \n",
    "    [1, 3, 5], \n",
    "    [7, 8, 9]\n",
    "])\n"
   ]
  },
  {
   "cell_type": "code",
   "execution_count": 185,
   "metadata": {},
   "outputs": [
    {
     "data": {
      "text/plain": [
       "array([12,  9, 24])"
      ]
     },
     "execution_count": 185,
     "metadata": {},
     "output_type": "execute_result"
    }
   ],
   "source": [
    "row_sums = adj_matrix.sum(axis=1)\n",
    "row_sums\n"
   ]
  },
  {
   "cell_type": "code",
   "execution_count": 186,
   "metadata": {},
   "outputs": [],
   "source": [
    "adj_matrix = adj_matrix / row_sums[:, np.newaxis]"
   ]
  },
  {
   "cell_type": "code",
   "execution_count": 188,
   "metadata": {},
   "outputs": [
    {
     "data": {
      "text/plain": [
       "array([[12,  9, 24]])"
      ]
     },
     "execution_count": 188,
     "metadata": {},
     "output_type": "execute_result"
    }
   ],
   "source": [
    "row_sums[np.newaxis, :]"
   ]
  },
  {
   "cell_type": "code",
   "execution_count": 195,
   "metadata": {},
   "outputs": [
    {
     "data": {
      "text/html": [
       "<div>\n",
       "<style scoped>\n",
       "    .dataframe tbody tr th:only-of-type {\n",
       "        vertical-align: middle;\n",
       "    }\n",
       "\n",
       "    .dataframe tbody tr th {\n",
       "        vertical-align: top;\n",
       "    }\n",
       "\n",
       "    .dataframe thead th {\n",
       "        text-align: right;\n",
       "    }\n",
       "</style>\n",
       "<table border=\"1\" class=\"dataframe\">\n",
       "  <thead>\n",
       "    <tr style=\"text-align: right;\">\n",
       "      <th></th>\n",
       "      <th>coord_x</th>\n",
       "      <th>coord_y</th>\n",
       "    </tr>\n",
       "  </thead>\n",
       "  <tbody>\n",
       "    <tr>\n",
       "      <th>ST_12</th>\n",
       "      <td>1581.242732</td>\n",
       "      <td>1329.313864</td>\n",
       "    </tr>\n",
       "    <tr>\n",
       "      <th>ST_13</th>\n",
       "      <td>1586.662026</td>\n",
       "      <td>1329.313864</td>\n",
       "    </tr>\n",
       "    <tr>\n",
       "      <th>ST_42</th>\n",
       "      <td>1581.242732</td>\n",
       "      <td>1334.863919</td>\n",
       "    </tr>\n",
       "    <tr>\n",
       "      <th>ST_43</th>\n",
       "      <td>1586.662026</td>\n",
       "      <td>1334.863919</td>\n",
       "    </tr>\n",
       "    <tr>\n",
       "      <th>ST_49</th>\n",
       "      <td>1619.177788</td>\n",
       "      <td>1334.863919</td>\n",
       "    </tr>\n",
       "    <tr>\n",
       "      <th>...</th>\n",
       "      <td>...</td>\n",
       "      <td>...</td>\n",
       "    </tr>\n",
       "    <tr>\n",
       "      <th>ST_1182</th>\n",
       "      <td>1581.242732</td>\n",
       "      <td>1545.766004</td>\n",
       "    </tr>\n",
       "    <tr>\n",
       "      <th>ST_1183</th>\n",
       "      <td>1586.662026</td>\n",
       "      <td>1545.766004</td>\n",
       "    </tr>\n",
       "    <tr>\n",
       "      <th>ST_1184</th>\n",
       "      <td>1592.081319</td>\n",
       "      <td>1545.766004</td>\n",
       "    </tr>\n",
       "    <tr>\n",
       "      <th>ST_1185</th>\n",
       "      <td>1597.500613</td>\n",
       "      <td>1545.766004</td>\n",
       "    </tr>\n",
       "    <tr>\n",
       "      <th>ST_1186</th>\n",
       "      <td>1602.919907</td>\n",
       "      <td>1545.766004</td>\n",
       "    </tr>\n",
       "  </tbody>\n",
       "</table>\n",
       "<p>581 rows × 2 columns</p>\n",
       "</div>"
      ],
      "text/plain": [
       "             coord_x      coord_y\n",
       "ST_12    1581.242732  1329.313864\n",
       "ST_13    1586.662026  1329.313864\n",
       "ST_42    1581.242732  1334.863919\n",
       "ST_43    1586.662026  1334.863919\n",
       "ST_49    1619.177788  1334.863919\n",
       "...              ...          ...\n",
       "ST_1182  1581.242732  1545.766004\n",
       "ST_1183  1586.662026  1545.766004\n",
       "ST_1184  1592.081319  1545.766004\n",
       "ST_1185  1597.500613  1545.766004\n",
       "ST_1186  1602.919907  1545.766004\n",
       "\n",
       "[581 rows x 2 columns]"
      ]
     },
     "execution_count": 195,
     "metadata": {},
     "output_type": "execute_result"
    }
   ],
   "source": [
    "spcoor"
   ]
  },
  {
   "cell_type": "code",
   "execution_count": null,
   "metadata": {},
   "outputs": [],
   "source": []
  }
 ],
 "metadata": {
  "kernelspec": {
   "display_name": "ehtesamenv_gains",
   "language": "python",
   "name": "python3"
  },
  "language_info": {
   "codemirror_mode": {
    "name": "ipython",
    "version": 3
   },
   "file_extension": ".py",
   "mimetype": "text/x-python",
   "name": "python",
   "nbconvert_exporter": "python",
   "pygments_lexer": "ipython3",
   "version": "3.10.14"
  }
 },
 "nbformat": 4,
 "nbformat_minor": 2
}
